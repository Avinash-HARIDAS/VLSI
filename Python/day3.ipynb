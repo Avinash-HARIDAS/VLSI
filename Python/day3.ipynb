{
 "cells": [
  {
   "cell_type": "code",
   "execution_count": 3,
   "metadata": {},
   "outputs": [
    {
     "name": "stdout",
     "output_type": "stream",
     "text": [
      "not\n"
     ]
    }
   ],
   "source": [
    "n=int(input(\"enter a num\"))\n",
    "result=n\n",
    "rev=0\n",
    "while n>0:\n",
    "    rem=n%10\n",
    "    rev=rev*10+rem\n",
    "    n=n//10\n",
    "    \n",
    "if result==rev:\n",
    "    print(\"palindrome\")\n",
    "else:\n",
    "    print(\"not\")\n",
    "        \n"
   ]
  },
  {
   "cell_type": "code",
   "execution_count": null,
   "metadata": {},
   "outputs": [],
   "source": [
    "n=int(input(\"enyter a num\"))\n",
    "num= original\n",
    "rev=0\n",
    "small=original\n",
    "while original>0:\n",
    "    rem=original%10\n",
    "    "
   ]
  },
  {
   "cell_type": "code",
   "execution_count": null,
   "metadata": {},
   "outputs": [],
   "source": [
    "for i in range(4,100,1):\n",
    "    print(i)\n"
   ]
  },
  {
   "cell_type": "code",
   "execution_count": 4,
   "metadata": {},
   "outputs": [
    {
     "name": "stdout",
     "output_type": "stream",
     "text": [
      "1 * 50 = 50\n",
      "2 * 50 = 100\n",
      "3 * 50 = 150\n",
      "4 * 50 = 200\n",
      "5 * 50 = 250\n",
      "6 * 50 = 300\n",
      "7 * 50 = 350\n",
      "8 * 50 = 400\n",
      "9 * 50 = 450\n",
      "10 * 50 = 500\n"
     ]
    }
   ],
   "source": [
    "n=int(input(\"enter a num\"))\n",
    "y=1\n",
    "for i in range(n,n*11,n):\n",
    "    \n",
    "    print(y ,\"*\" ,n ,\"=\" ,i)\n",
    "    y=y+1\n",
    "\n"
   ]
  },
  {
   "cell_type": "code",
   "execution_count": 6,
   "metadata": {},
   "outputs": [
    {
     "name": "stdout",
     "output_type": "stream",
     "text": [
      "    A \n",
      "   A B \n",
      "  A B C \n",
      " A B C D \n",
      "A B C D E \n"
     ]
    }
   ],
   "source": [
    "rows=5\n",
    "for i in range(1,rows+1):\n",
    "    print(\" \"*(rows-i),end=\"\")\n",
    "    for j in range(1,i+1):\n",
    "        print(chr(64+j),end=\" \")\n",
    "    #print()p\n",
    "    print()\n"
   ]
  }
 ],
 "metadata": {
  "kernelspec": {
   "display_name": "Python 3",
   "language": "python",
   "name": "python3"
  },
  "language_info": {
   "codemirror_mode": {
    "name": "ipython",
    "version": 3
   },
   "file_extension": ".py",
   "mimetype": "text/x-python",
   "name": "python",
   "nbconvert_exporter": "python",
   "pygments_lexer": "ipython3",
   "version": "3.13.1"
  }
 },
 "nbformat": 4,
 "nbformat_minor": 2
}
