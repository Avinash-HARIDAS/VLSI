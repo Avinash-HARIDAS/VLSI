{
 "cells": [
  {
   "cell_type": "code",
   "execution_count": 2,
   "metadata": {},
   "outputs": [
    {
     "name": "stdout",
     "output_type": "stream",
     "text": [
      "simple interest 50.0\n"
     ]
    }
   ],
   "source": [
    "p=int(input(\"enter the amount\"))\n",
    "r=int(input(\"enter the rate of interest\"))\n",
    "t=int(input(\"enter time peroid\"))\n",
    "s=(p*r*t)/100\n",
    "print(\"simple interest\",s)"
   ]
  },
  {
   "cell_type": "code",
   "execution_count": 3,
   "metadata": {},
   "outputs": [
    {
     "name": "stdout",
     "output_type": "stream",
     "text": [
      "not divisible by both 3 and 6\n"
     ]
    }
   ],
   "source": [
    "n=int(input(\"enter the number\"))\n",
    "if n%3==0 and n%6==0:\n",
    "    print(\"divisible by both 3 and 6\")\n",
    "else:\n",
    "    print(\"not divisible by both 3 and 6\")\n"
   ]
  },
  {
   "cell_type": "markdown",
   "metadata": {},
   "source": [
    "f string\n"
   ]
  },
  {
   "cell_type": "code",
   "execution_count": 9,
   "metadata": {},
   "outputs": [
    {
     "name": "stdout",
     "output_type": "stream",
     "text": [
      "value of a=10 and value of b=20\n",
      "value of a=10 and value of b=20\n"
     ]
    }
   ],
   "source": [
    "a=10\n",
    "b=20\n",
    "print(f\"value of a={a} and value of b={b}\")\n",
    "print(\"value of a={} and value of b={}\".format(a,b))"
   ]
  },
  {
   "cell_type": "markdown",
   "metadata": {},
   "source": []
  },
  {
   "cell_type": "code",
   "execution_count": null,
   "metadata": {},
   "outputs": [],
   "source": [
    "a=int(input(\"enter the number\"))\n",
    "b=int(input(\"enter the number\"))\n",
    "c=int(input(\"enter the number\"))\n",
    "if a<b and a<c and b<c:\n",
    "    print(\"c is largest\")\n",
    "else:\n",
    "    if a<b and c<b:\n",
    "        print(\"b is largest\")\n",
    "    \n",
    "    else:\n",
    "        print(\"a is largest\")"
   ]
  },
  {
   "cell_type": "code",
   "execution_count": 11,
   "metadata": {},
   "outputs": [
    {
     "name": "stdout",
     "output_type": "stream",
     "text": [
      "c is largest\n"
     ]
    }
   ],
   "source": [
    "a=int(input(\"enter the number\"))\n",
    "b=int(input(\"enter the number\"))\n",
    "c=int(input(\"enter the number\"))\n",
    "if  a<c and b<c:\n",
    "    print(\"c is largest\")\n",
    "elif a<b and c<b:\n",
    "    print(\"b is largest\")\n",
    "        \n",
    "    \n",
    "else:\n",
    "     print(\"a is largest\")\n",
    "\n",
    "       \n"
   ]
  },
  {
   "cell_type": "code",
   "execution_count": null,
   "metadata": {},
   "outputs": [],
   "source": []
  },
  {
   "cell_type": "code",
   "execution_count": null,
   "metadata": {},
   "outputs": [],
   "source": [
    "a=int(input(\"enter the number\"))\n",
    "b=int(input(\"enter the number\"))\n",
    "c=int(input(\"enter the number\"))\n",
    "print(max(a,b,c))"
   ]
  },
  {
   "cell_type": "code",
   "execution_count": null,
   "metadata": {},
   "outputs": [],
   "source": [
    "a=int(input(\"enter the angles\"))\n",
    "b=int(input(\"enter the angles\"))\n",
    "c=int(input(\"enter the angles\"))\n",
    "if a==b==c:\n",
    "    print(\"equilateral triangle\")\n",
    "elif a==b or a==c or c==b:\n",
    "    print(\"isocless triangle\")\n",
    "else:\n",
    "    print(\"scalene triangle\")\n"
   ]
  },
  {
   "cell_type": "code",
   "execution_count": null,
   "metadata": {},
   "outputs": [],
   "source": [
    "a=int(input(\"enter a num\"))\n",
    "b=int(input(\"enter a num\"))\n",
    "o=str(input(\"enter operator\"))\n",
    "if (o==\"-\"):\n",
    "    print(\"sub=\",a-b)\n",
    "elif (o==\"+\"):\n",
    "    print(\"add=\",a+b)\n",
    "elif (o==\"*\"):\n",
    "    print(\"product=\",a*b)\n",
    "elif (o==\"/\"):\n",
    "    print(\"division=\",a/b)\n",
    "    \n",
    "\n",
    "    \n"
   ]
  },
  {
   "cell_type": "code",
   "execution_count": 12,
   "metadata": {},
   "outputs": [
    {
     "name": "stdout",
     "output_type": "stream",
     "text": [
      "20 20\n",
      "and or not xor rs ls 0b10100 0b10100 -0b10101 0b0 0b1010000 0b101\n"
     ]
    }
   ],
   "source": [
    "a=int(input(\"enter the num\"))\n",
    "b=int(input(\"enter the num\"))\n",
    "print(a,b)\n",
    "c=a&b\n",
    "d=a|b\n",
    "e=~a\n",
    "f=a^b\n",
    "g=a<<2\n",
    "h=a>>2\n",
    "print(\"and or not xor rs ls\",bin(c),bin(d),bin(e),bin(f),bin(g),bin(h))\n"
   ]
  },
  {
   "cell_type": "code",
   "execution_count": null,
   "metadata": {},
   "outputs": [],
   "source": [
    "a=2\n",
    "b=2\n",
    "print(id(a))\n",
    "print(id(b))\n",
    "print(a is b)\n",
    "print(a is not b)\n",
    "s=[2,3,4]\n",
    "print(2 in s)\n",
    "print(2 not in s)\n"
   ]
  },
  {
   "cell_type": "code",
   "execution_count": null,
   "metadata": {},
   "outputs": [],
   "source": [
    "n=int(input(\"enter the number\"))\n",
    "result = 1\n",
    "while n > 0:\n",
    "    result *= n\n",
    "    n -= 1\n",
    "print(\"result\",result)    \n",
    "        \n",
    "    \n",
    "        \n",
    "   \n"
   ]
  },
  {
   "cell_type": "code",
   "execution_count": null,
   "metadata": {},
   "outputs": [],
   "source": [
    "n=int(input(\"enter the number\"))\n",
    "result=0\n",
    "while n>0:\n",
    "    result+=n\n",
    "    n=n-1\n",
    "print(\"result\",result)\n",
    "\n"
   ]
  },
  {
   "cell_type": "code",
   "execution_count": null,
   "metadata": {},
   "outputs": [],
   "source": [
    "n=int(input(\"enter the number\"))\n",
    "result=0\n",
    "while n>0:\n",
    "    d=n%10\n",
    "    result+=d\n",
    "    n=n//10\n",
    "print(\"result\",result)\n",
    "\n"
   ]
  }
 ],
 "metadata": {
  "kernelspec": {
   "display_name": "Python 3",
   "language": "python",
   "name": "python3"
  },
  "language_info": {
   "codemirror_mode": {
    "name": "ipython",
    "version": 3
   },
   "file_extension": ".py",
   "mimetype": "text/x-python",
   "name": "python",
   "nbconvert_exporter": "python",
   "pygments_lexer": "ipython3",
   "version": "3.13.1"
  }
 },
 "nbformat": 4,
 "nbformat_minor": 2
}
