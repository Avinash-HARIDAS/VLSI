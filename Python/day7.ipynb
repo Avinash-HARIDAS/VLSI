{
 "cells": [
  {
   "cell_type": "markdown",
   "metadata": {},
   "source": [
    "create a dict key(1-15) and values are square of keys"
   ]
  },
  {
   "cell_type": "code",
   "execution_count": 2,
   "metadata": {},
   "outputs": [
    {
     "name": "stdout",
     "output_type": "stream",
     "text": [
      "{1: 1, 2: 4, 3: 9, 4: 16, 5: 25, 6: 36, 7: 49, 8: 64, 9: 81, 10: 100, 11: 121, 12: 144, 13: 169, 14: 196, 15: 225}\n"
     ]
    }
   ],
   "source": [
    "squaredict={}\n",
    "for key in range(1,16):\n",
    "    squaredict[key]=key**2\n",
    "\n",
    "print(squaredict)\n",
    "\n",
    "\n"
   ]
  },
  {
   "cell_type": "markdown",
   "metadata": {},
   "source": [
    "merge 2 dictionary"
   ]
  },
  {
   "cell_type": "code",
   "execution_count": 3,
   "metadata": {},
   "outputs": [
    {
     "name": "stdout",
     "output_type": "stream",
     "text": [
      "{1: 'monday', 2: 'tuesday', 3: 'wednesday', 4: 'thursday'}\n"
     ]
    }
   ],
   "source": [
    "a={1:\"monday\",2:\"tuesday\"}\n",
    "b={3:\"wednesday\",4:\"thursday\"}\n",
    "a.update(b)\n",
    "print(a)"
   ]
  },
  {
   "cell_type": "markdown",
   "metadata": {},
   "source": [
    "sort"
   ]
  },
  {
   "cell_type": "code",
   "execution_count": 9,
   "metadata": {},
   "outputs": [
    {
     "name": "stdout",
     "output_type": "stream",
     "text": [
      "{2: 3, 4: 5, 6: 1, 7: 8}\n"
     ]
    }
   ],
   "source": [
    "d={4:5,6:1,2:3,7:8}\n",
    "sort_dict=dict(sorted(d.items()))\n",
    "print(sort_dict)"
   ]
  },
  {
   "cell_type": "code",
   "execution_count": 11,
   "metadata": {},
   "outputs": [
    {
     "name": "stdout",
     "output_type": "stream",
     "text": [
      "{'g': 2, 'o': 3, 'l': 1, 'e': 1, '.': 1, 'c': 1, 'm': 1}\n"
     ]
    }
   ],
   "source": [
    "d=\"google.com\"\n",
    "d1={}\n",
    "for ele in d:\n",
    "    d1[ele]=d.count(ele)\n",
    "print(d1)\n",
    "\n"
   ]
  },
  {
   "cell_type": "code",
   "execution_count": 20,
   "metadata": {},
   "outputs": [
    {
     "name": "stdout",
     "output_type": "stream",
     "text": [
      "{'a': 400, 'b': 400, 'c': 300, 'd': 400}\n"
     ]
    }
   ],
   "source": [
    "d1 = {'a': 100, 'b': 200, 'c': 300}\n",
    "d2 = {'a': 300, 'b': 200, 'd': 400}\n",
    "\n",
    "# Merge and add values for common keys\n",
    "d3 = {}\n",
    "\n",
    "# Add all keys from d1\n",
    "for key in d1:\n",
    "    d3[key] = d1[key] + d2.get(key, 0)  # Add d1[key] and d2[key] if it exists, otherwise 0\n",
    "\n",
    "# Add keys that are in d2 but not in d1\n",
    "for key in d2:\n",
    "    if key not in d3:\n",
    "        d3[key] = d2[key]\n",
    "\n",
    "print(d3)\n"
   ]
  },
  {
   "cell_type": "code",
   "execution_count": 37,
   "metadata": {},
   "outputs": [
    {
     "name": "stdout",
     "output_type": "stream",
     "text": [
      "{1, 2, 3, 4, 5} {8, 1, 9, 7}\n",
      "{1, 2, 3, 4, 5, 9}\n",
      "{1, 2, 3, 4, 9}\n",
      "{1, 2, 3, 4, 9}\n"
     ]
    }
   ],
   "source": [
    "a={1,2,3,4,5,2,3}\n",
    "another_set=set([1,7,8,9])\n",
    "print(a, another_set)\n",
    "a.add(9)\n",
    "print(a)\n",
    "a.remove(5)\n",
    "print(a)\n",
    "a.discard(5)\n",
    "print(a)"
   ]
  },
  {
   "cell_type": "code",
   "execution_count": 44,
   "metadata": {},
   "outputs": [
    {
     "name": "stdout",
     "output_type": "stream",
     "text": [
      "{1, 2, 3, 4, 5}\n",
      "{3}\n",
      "{1, 2}\n",
      "{1, 2, 4, 5}\n",
      "False\n",
      "False\n"
     ]
    }
   ],
   "source": [
    "set1={1,2,3}\n",
    "set2={3,4,5}\n",
    "union_set=set1.union(set2)\n",
    "print(union_set)\n",
    "intersection_set=set1.intersection(set2)\n",
    "print(intersection_set)\n",
    "difference_set=set1.difference(set2)\n",
    "print(difference_set)\n",
    "sym_set=set1.symmetric_difference(set2)\n",
    "print(sym_set)\n",
    "sub=set1.issubset(set2)\n",
    "print(sub)\n",
    "super=set1.issuperset(set2)\n",
    "print(super)"
   ]
  },
  {
   "cell_type": "code",
   "execution_count": 46,
   "metadata": {},
   "outputs": [
    {
     "name": "stdout",
     "output_type": "stream",
     "text": [
      "original list [1, 2, 3, 4, 5, 6, 6]\n",
      "list with duplicate removed [1, 2, 3, 4, 5, 6]\n"
     ]
    }
   ],
   "source": [
    "original_list=[1,2,3,4,5,6,6]\n",
    "unique_elements=set(original_list)\n",
    "print(\"original list\",original_list)\n",
    "print(\"list with duplicate removed\",list(unique_elements))"
   ]
  },
  {
   "cell_type": "code",
   "execution_count": 49,
   "metadata": {},
   "outputs": [
    {
     "name": "stdout",
     "output_type": "stream",
     "text": [
      "100\n"
     ]
    }
   ],
   "source": [
    "def func1(a,b):\n",
    "    result=a*b\n",
    "    return result\n",
    "\n",
    "\n",
    "\n",
    "\n",
    "a=10\n",
    "b=10\n",
    "c=func1(a,b)\n",
    "print(c)"
   ]
  },
  {
   "cell_type": "markdown",
   "metadata": {},
   "source": [
    "fibonacii"
   ]
  },
  {
   "cell_type": "code",
   "execution_count": 56,
   "metadata": {},
   "outputs": [
    {
     "name": "stdout",
     "output_type": "stream",
     "text": [
      "0 1 1 2 3 5 8 13 21 34 "
     ]
    }
   ],
   "source": [
    "def fibonacci(n):\n",
    "    a, b = 0, 1\n",
    "    for _ in range(n):\n",
    "        print(a, end=\" \")\n",
    "        a, b = b, a + b\n",
    "\n",
    "fibonacci(10)  # Prints the first 10 Fibonacci numbers\n"
   ]
  },
  {
   "cell_type": "code",
   "execution_count": 64,
   "metadata": {},
   "outputs": [
    {
     "name": "stdout",
     "output_type": "stream",
     "text": [
      "0 1 1 2 3 "
     ]
    }
   ],
   "source": [
    "def fun1(n):\n",
    "    first=0\n",
    "    second=1\n",
    "    if n<=2:\n",
    "         print(first,second)\n",
    "    else:\n",
    "        print(first,second,end=\" \")\n",
    "        for i in range(2,n):\n",
    "            third=first+second\n",
    "            print(third,end=\" \")\n",
    "            first,second=second,third\n",
    "        \n",
    "\n",
    "\n",
    "\n",
    "n=int(input(\"enter the limit\"))\n",
    "fun1(n)"
   ]
  }
 ],
 "metadata": {
  "kernelspec": {
   "display_name": "Python 3",
   "language": "python",
   "name": "python3"
  },
  "language_info": {
   "codemirror_mode": {
    "name": "ipython",
    "version": 3
   },
   "file_extension": ".py",
   "mimetype": "text/x-python",
   "name": "python",
   "nbconvert_exporter": "python",
   "pygments_lexer": "ipython3",
   "version": "3.13.1"
  }
 },
 "nbformat": 4,
 "nbformat_minor": 2
}
