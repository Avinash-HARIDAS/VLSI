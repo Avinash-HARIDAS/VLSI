{
 "cells": [
  {
   "cell_type": "markdown",
   "metadata": {},
   "source": [
    "circle area\n",
    "rect area\n",
    "do you want to continue y n"
   ]
  },
  {
   "cell_type": "code",
   "execution_count": 11,
   "metadata": {},
   "outputs": [
    {
     "name": "stdout",
     "output_type": "stream",
     "text": [
      "enter the choice\n",
      "1.area of rect\n",
      "2.area of circle\n",
      "area of circle 28.26\n",
      "enter the choice\n",
      "1.area of rect\n",
      "2.area of circle\n",
      "invalid\n"
     ]
    }
   ],
   "source": [
    "def areaofrectangle(length,breadth):\n",
    "    return length*breadth\n",
    "def areaofcircle(radius):\n",
    "    return 3.14*radius**2\n",
    "\n",
    "while True:\n",
    "    print(\"enter the choice\")\n",
    "    print(\"1.area of rect\")\n",
    "    print(\"2.area of circle\")\n",
    "    choice=int(input(\"enter the choice\"))\n",
    "\n",
    "    if choice==1:\n",
    "        length=int(input(\"enter  length\"))\n",
    "        breadth=int(input(\"enter  breadth\"))\n",
    "        print(\"area of rect is\",areaofrectangle(length,breadth))\n",
    "    \n",
    "    elif choice==2:\n",
    "        radius=int(input(\"enter the radius\"))\n",
    "        print(\"area of circle\",areaofcircle(radius))\n",
    "    \n",
    "    else:\n",
    "        print(\"invalid\")\n",
    "        break\n",
    "    \n",
    "    \n",
    "\n",
    "\n",
    "\n",
    "\n"
   ]
  },
  {
   "cell_type": "code",
   "execution_count": null,
   "metadata": {},
   "outputs": [],
   "source": [
    "def process_data(data):\n",
    "    if isinstance(data,list):\n",
    "        print(\"processing list\")\n",
    "        for item in data:\n",
    "            print(item):\n",
    "    elif isinstance(data,tuple):\n",
    "        print(item)\n",
    "        \n",
    "    "
   ]
  },
  {
   "cell_type": "code",
   "execution_count": 15,
   "metadata": {},
   "outputs": [
    {
     "name": "stdout",
     "output_type": "stream",
     "text": [
      "hello,alice!\n"
     ]
    }
   ],
   "source": [
    "def greet(name,greeting):\n",
    "    return f\"{greeting},{name}!\"\n",
    "print(greet(\"alice\",\"hello\"))\n"
   ]
  },
  {
   "cell_type": "code",
   "execution_count": 16,
   "metadata": {},
   "outputs": [
    {
     "name": "stdout",
     "output_type": "stream",
     "text": [
      "helloalice!\n"
     ]
    }
   ],
   "source": [
    "def greet(name,greeting):\n",
    "    return f\"{greeting}{name}!\"\n",
    "print(greet(greeting=\"hello\",name=\"alice\"))"
   ]
  },
  {
   "cell_type": "code",
   "execution_count": 17,
   "metadata": {},
   "outputs": [
    {
     "name": "stdout",
     "output_type": "stream",
     "text": [
      "helloalice!\n"
     ]
    }
   ],
   "source": [
    "def greet(name,greeting=\"hello\"):\n",
    "    return f\"{greeting}{name}!\"\n",
    "print(greet(\"alice\"))"
   ]
  },
  {
   "cell_type": "code",
   "execution_count": 23,
   "metadata": {},
   "outputs": [
    {
     "name": "stdout",
     "output_type": "stream",
     "text": [
      "(1, 2, 3, 4, 5)\n",
      "<class 'tuple'>\n",
      "<built-in function sum>\n",
      "(1, 2, 3, 4, 5)\n",
      "<class 'tuple'>\n",
      "<built-in function sum>\n",
      "(1, 2, 3, 4, 5)\n",
      "<class 'tuple'>\n",
      "<built-in function sum>\n",
      "(1, 2, 3, 4, 5)\n",
      "<class 'tuple'>\n",
      "<built-in function sum>\n",
      "(1, 2, 3, 4, 5)\n",
      "<class 'tuple'>\n",
      "<built-in function sum>\n",
      "15\n"
     ]
    }
   ],
   "source": [
    "def add(*args):\n",
    "    for i in args:\n",
    "        print(args)\n",
    "        print(type(args))\n",
    "        print(sum)\n",
    "    return sum(args)\n",
    "print(add(1,2,3,4,5))"
   ]
  },
  {
   "cell_type": "code",
   "execution_count": null,
   "metadata": {},
   "outputs": [],
   "source": [
    "def person_info(**kwargs):\n",
    "    for key,value in kwargs,items():\n",
    "        print(f\"{key}:{value}\")\n",
    "pe\n",
    "\n"
   ]
  },
  {
   "cell_type": "code",
   "execution_count": 24,
   "metadata": {},
   "outputs": [
    {
     "name": "stdout",
     "output_type": "stream",
     "text": [
      "20\n",
      "10\n"
     ]
    }
   ],
   "source": [
    "x=10\n",
    "def func():\n",
    "    x=20\n",
    "    print(x)\n",
    "func()\n",
    "print(x)\n",
    "\n",
    "def modify_global():\n",
    "    global x\n",
    "    x=30\n",
    "    modify_global()\n",
    "    print(x)"
   ]
  },
  {
   "cell_type": "code",
   "execution_count": 37,
   "metadata": {},
   "outputs": [
    {
     "name": "stdout",
     "output_type": "stream",
     "text": [
      "name:alice\n",
      "age:25\n",
      "greeting:hello\n",
      "additional position arguments\n",
      "('extra1', 'extra', 5)\n",
      "('extra1', 'extra', 5)\n",
      "('extra1', 'extra', 5)\n",
      "additional keyword arguments\n",
      "citynewyork\n",
      "professionengineer\n"
     ]
    }
   ],
   "source": [
    "def example_func(name,age=30,*args,greeting=\"hello\",**kwargs):\n",
    "    print(f\"name:{name}\")\n",
    "    print(f\"age:{age}\")\n",
    "    print(f\"greeting:{greeting}\")\n",
    "    print(f\"additional position arguments\")\n",
    "    for arg in args:\n",
    "        print(args)\n",
    "    print(\"additional keyword arguments\")\n",
    "    for key,value in kwargs.items():\n",
    "        print(f\"{key}{value}\")\n",
    "example_func(\"alice\",25,\"extra1\",\"extra\",city=\"newyork\",profession=\"engineer\")"
   ]
  },
  {
   "cell_type": "markdown",
   "metadata": {},
   "source": [
    "recursion"
   ]
  },
  {
   "cell_type": "code",
   "execution_count": 40,
   "metadata": {},
   "outputs": [
    {
     "name": "stdout",
     "output_type": "stream",
     "text": [
      "fact 120\n"
     ]
    }
   ],
   "source": [
    "def factorial(n):\n",
    "    if n==0:\n",
    "        return 1\n",
    "    else:\n",
    "        return n*factorial(n-1)\n",
    "n=int(input(\"enter num\"))\n",
    "result=factorial(n)\n",
    "print(\"fact\",result)"
   ]
  },
  {
   "cell_type": "code",
   "execution_count": 42,
   "metadata": {},
   "outputs": [
    {
     "name": "stdout",
     "output_type": "stream",
     "text": [
      "8\n"
     ]
    }
   ],
   "source": [
    "add=lambda x,y:x+y\n",
    "print(add(3,5))"
   ]
  },
  {
   "cell_type": "code",
   "execution_count": 45,
   "metadata": {},
   "outputs": [
    {
     "name": "stdout",
     "output_type": "stream",
     "text": [
      "True\n",
      "False\n"
     ]
    }
   ],
   "source": [
    "is_even=lambda x: x % 2 == 0\n",
    "print(is_even(4))\n",
    "print(is_even(5))\n"
   ]
  },
  {
   "cell_type": "code",
   "execution_count": 48,
   "metadata": {},
   "outputs": [
    {
     "name": "stdout",
     "output_type": "stream",
     "text": [
      "9\n"
     ]
    }
   ],
   "source": [
    "square=lambda x : x ** 2\n",
    "print(square(3))"
   ]
  },
  {
   "cell_type": "code",
   "execution_count": null,
   "metadata": {},
   "outputs": [],
   "source": []
  }
 ],
 "metadata": {
  "kernelspec": {
   "display_name": "Python 3",
   "language": "python",
   "name": "python3"
  },
  "language_info": {
   "codemirror_mode": {
    "name": "ipython",
    "version": 3
   },
   "file_extension": ".py",
   "mimetype": "text/x-python",
   "name": "python",
   "nbconvert_exporter": "python",
   "pygments_lexer": "ipython3",
   "version": "3.13.1"
  }
 },
 "nbformat": 4,
 "nbformat_minor": 2
}
